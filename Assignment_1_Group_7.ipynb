{
 "cells": [
  {
   "cell_type": "code",
   "execution_count": null,
   "metadata": {},
   "outputs": [],
   "source": [
    "#Task3_Q1\n",
    "import pandas as pd\n",
    "\n",
    "#establish connection to database\n",
    "conn = sqlite3.connect(\"database.sqlite\")\n",
    "\n",
    "#create list of tables in database\n",
    "table_list = [\"reviews\", \"artists\", \"genres\", \"labels\", \"years\", \"content\"]\n",
    "\n",
    "#loop through list of tables and convert to .csv files\n",
    "for table in table_list:\n",
    "    db_table = pd.read_sql('SELECT * FROM ' + table ,conn)\n",
    "    db_table.to_csv(table + '.csv', index=False)\n"
   ]
  },
  {
   "cell_type": "code",
   "execution_count": null,
   "metadata": {},
   "outputs": [],
   "source": [
    "#Task3_Q2_1\n",
    "#create dataframe for left table from .csv\n",
    "left_col = pd.read_csv('artists.csv')\n",
    "\n",
    "#create dataframe for right table from .csv\n",
    "right_col = pd.read_csv('genres.csv')\n",
    "\n",
    "#perform left outer join on tables\n",
    "left_col.merge(right_col, left_index=True, right_index=True, how='left' )"
   ]
  },
  {
   "cell_type": "code",
   "execution_count": null,
   "metadata": {},
   "outputs": [],
   "source": [
    "#Task3_Q2_2\n",
    "#create dataframe from .csv\n",
    "review_df = pd.read_csv('reviews.csv')\n",
    "\n",
    "#count missing values for atribute author_type\n",
    "missing_values = review_df['author_type'].isna().sum()\n",
    "\n",
    "#print amount of missing values\n",
    "print('Attribute author_type contains ' + str(missing_values) + ' missing values.')"
   ]
  },
  {
   "cell_type": "code",
   "execution_count": null,
   "metadata": {},
   "outputs": [],
   "source": [
    "#Task3_Q2_3\n",
    "#create dataframe from .csv\n",
    "genre_df = pd.read_csv('genres.csv')\n",
    "\n",
    "#find instances where genre is null\n",
    "null_filter = pd.isnull(genre_df['genre'])\n",
    "\n",
    "#apply filter on table, returning reviewID's where genre is null\n",
    "print(genre_df[null_filter])"
   ]
  },
  {
   "cell_type": "code",
   "execution_count": null,
   "metadata": {},
   "outputs": [],
   "source": [
    "#Task3_Q2_4\n",
    "#create dataframe from .csv\n",
    "review_df = pd.read_csv('reviews.csv')\n",
    "\n",
    "#counts amount of times an artist has appeared in reviews\n",
    "artist_count = review_df['artist'].value_counts()\n",
    "\n",
    "#create list for artists appearing only once in reviews\n",
    "artists_single = []\n",
    "\n",
    "#loops through artist_count, finds artists that have a value_count of 1 and appends those artists to the artists_single list \n",
    "for artist, count in artist_count.items():\n",
    "    if count == 1:\n",
    "        artists_single.append(artist)\n",
    "\n",
    "#print(artist_count)\n",
    "#prints all artists that have a value_count of 1\n",
    "print(artists_single)\n",
    "\n",
    "'''\n",
    "v = review_df_2.Parameter.value_counts()\n",
    "review_df_2[review_df_2.Parameter.isin(v.index[v.gt(1)])]\n",
    "'''"
   ]
  },
  {
   "cell_type": "code",
   "execution_count": null,
   "metadata": {},
   "outputs": [],
   "source": [
    "#Task3_Q2_5\n",
    "#create dataframe from .csv\n",
    "review_df = pd.read_csv('reviews.csv')\n",
    "\n",
    "#sort group based on best_new_music attribute and count total reviewid per group\n",
    "group_count = review_df.groupby(['best_new_music'])['reviewid'].count()\n",
    "\n",
    "#print best_new_music counts for each group\n",
    "print(group_count)"
   ]
  },
  {
   "cell_type": "code",
   "execution_count": null,
   "metadata": {},
   "outputs": [],
   "source": [
    "#Task3_Q2_6\n",
    "#create dataframe from .csv\n",
    "review_df = pd.read_csv('reviews.csv')\n",
    "\n",
    "#group_review = review_df.groupby(['reviewid'])['score'].max()\n",
    "\n",
    "#print(group_review)\n",
    "#review_df.loc[(review_df['score'] == review_df.idxmax()) | review_df['score' == review_df.idxmin()]]\n",
    "\n",
    "#sort rows where score is minimum or maximum\n",
    "min_max_scores= review_df[(review_df.score == review_df.score.max()) | (review_df.score == review_df.score.min())] \n",
    "\n",
    "#print reviewid, title, artist and score, sorted by score in descending order\n",
    "print(min_max_scores[['reviewid', 'title', 'artist', 'score']].sort_values('score', ascending=False))\n",
    "#| review_df[review_df.score == review_df.score.min()]\n",
    "\n",
    "'''\n",
    "for score, reviewid in review_df:\n",
    "    if score\n",
    "'''"
   ]
  },
  {
   "cell_type": "code",
   "execution_count": null,
   "metadata": {},
   "outputs": [],
   "source": [
    "#Task3_Q2_7\n",
    "#create dataframe from .csv\n",
    "review_df = pd.read_csv('reviews.csv')\n",
    "\n",
    "#self-joins artists that have received the same score\n",
    "self_join_df = review_df.merge(right=review_df, how='left', on='score')\n",
    "\n",
    "#prints left and right artist that match scores\n",
    "print(self_join_df[['artist_x', 'artist_y']])\n"
   ]
  }
 ],
 "metadata": {
  "colab": {
   "provenance": []
  },
  "kernelspec": {
   "display_name": "Python 3.8.8",
   "language": "python",
   "name": "python3"
  },
  "language_info": {
   "codemirror_mode": {
    "name": "ipython",
    "version": 3
   },
   "file_extension": ".py",
   "mimetype": "text/x-python",
   "name": "python",
   "nbconvert_exporter": "python",
   "pygments_lexer": "ipython3",
   "version": "3.8.8"
  },
  "vscode": {
   "interpreter": {
    "hash": "fb833273add3e7c60eb33c0608260b79a61e072ade6f02cc8d07b0a26eef8ab8"
   }
  }
 },
 "nbformat": 4,
 "nbformat_minor": 1
}
